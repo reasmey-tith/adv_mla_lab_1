{
  "cells": [
    {
      "cell_type": "markdown",
      "metadata": {
        "id": "uQ6wc2HE0pke"
      },
      "source": [
        "# **Lab: Engineering for ML**\n",
        "\n"
      ]
    },
    {
      "cell_type": "markdown",
      "metadata": {
        "id": "tQgxLRrvjiJb"
      },
      "source": [
        "## Exercise 1: Setting up new Git Repository\n",
        "\n",
        "We will start by setting up a new git repository that will be used for storing, tracking, collaborating and sharing the code for a new project.\n",
        "\n",
        "**Pre-requisites:**\n",
        "- Create a github account (https://github.com/join)\n",
        "- Install git (https://git-scm.com/book/en/v2/Getting-Started-Installing-Git)\n",
        "- Install pyenv (https://realpython.com/lessons/installing-pyenv/)\n",
        "- Install poetry (https://python-poetry.org/docs/#installation)\n",
        "- Install Wget for Windows users (https://eternallybored.org/misc/wget/)\n",
        "\n",
        "The steps are:\n",
        "1.   Create local folder for repo\n",
        "2.   Initialise git\n",
        "3.   Add content\n",
        "4.   Install Python version with pyenv\n",
        "5.   Install packages with poetry\n",
        "6.   Push changes"
      ]
    },
    {
      "cell_type": "markdown",
      "metadata": {
        "id": "smh_LhVjIg9s"
      },
      "source": [
        "### 1. Setup repo"
      ]
    },
    {
      "cell_type": "markdown",
      "metadata": {
        "id": "WbNpeOe-5flB"
      },
      "source": [
        "**[1.1]** Open a command prompt on your computer"
      ]
    },
    {
      "cell_type": "markdown",
      "metadata": {
        "id": "urrLvZmTUX23"
      },
      "source": [
        "**[1.2]** Go to a folder of your choice on your computer (where you store projects)"
      ]
    },
    {
      "cell_type": "code",
      "execution_count": null,
      "metadata": {
        "id": "nDAwl-fSVgIe"
      },
      "outputs": [],
      "source": [
        "# This is an example of UNIX command. You don't have to use command line. You can perform this step manually\n",
        "! cd ~/Projects/adv_mla_2025\n",
        "\n",
        "# if you need to create a folder\n",
        "! cd ~/Projects\n",
        "! mkdir adv_mla_2025\n",
        "! cd ~/Projects/adv_mla_2025"
      ]
    },
    {
      "cell_type": "markdown",
      "metadata": {
        "id": "WwOZl3HpUZif"
      },
      "source": [
        "**[1.3]** Install [cookiecutter](https://cookiecutter-data-science.drivendata.org/#with-pip) using pip"
      ]
    },
    {
      "cell_type": "code",
      "execution_count": null,
      "metadata": {
        "id": "DwyPbDvDQSMh"
      },
      "outputs": [],
      "source": [
        "# Placeholder for student's code (command line)"
      ]
    },
    {
      "cell_type": "code",
      "execution_count": null,
      "metadata": {
        "id": "3Vt5SUiQVpB9"
      },
      "outputs": [],
      "source": [
        "# Solution\n",
        "! pip install cookiecutter-data-science"
      ]
    },
    {
      "cell_type": "markdown",
      "metadata": {
        "id": "hs7TE4vnWSWw"
      },
      "source": [
        "**[1.4]** Copy the cookiecutter data science template with `adv_mla_lab_1` as project and repo names"
      ]
    },
    {
      "cell_type": "code",
      "execution_count": null,
      "metadata": {
        "id": "m-JJEI5-QTBO"
      },
      "outputs": [],
      "source": [
        "# Placeholder for student's code (command line)"
      ]
    },
    {
      "cell_type": "code",
      "execution_count": null,
      "metadata": {
        "id": "hRPEVKp5WTSh"
      },
      "outputs": [],
      "source": [
        "# Solution\n",
        "! ccds"
      ]
    },
    {
      "cell_type": "markdown",
      "metadata": {
        "id": "cyKDtO1Yssvj"
      },
      "source": [
        "**[1.5]** Go inside the created folder"
      ]
    },
    {
      "cell_type": "code",
      "execution_count": null,
      "metadata": {
        "id": "eLc6Dw6Vss2N"
      },
      "outputs": [],
      "source": [
        "# Placeholder for student's code (command line)"
      ]
    },
    {
      "cell_type": "code",
      "execution_count": null,
      "metadata": {
        "id": "ttF5JyY5BMQW"
      },
      "outputs": [],
      "source": [
        "# Solution\n",
        "! cd adv_mla_lab_1"
      ]
    },
    {
      "cell_type": "markdown",
      "metadata": {
        "id": "cZ3dcCcYWikq"
      },
      "source": [
        "**[1.6]** Display the content of the folder"
      ]
    },
    {
      "cell_type": "code",
      "execution_count": null,
      "metadata": {
        "id": "iEcixkgqWnyo"
      },
      "outputs": [],
      "source": [
        "# Solution\n",
        "! ls -la"
      ]
    },
    {
      "cell_type": "markdown",
      "metadata": {
        "id": "_NCwQQFkU3v5"
      },
      "source": [
        "### 2. Initialise git"
      ]
    },
    {
      "cell_type": "markdown",
      "metadata": {
        "id": "iUTqJva8U_5_"
      },
      "source": [
        "**[2.1]** Initialise the repo\n"
      ]
    },
    {
      "cell_type": "code",
      "execution_count": null,
      "metadata": {
        "id": "Cx0yZ4Z7KQ21"
      },
      "outputs": [],
      "source": [
        "# Placeholder for student's code (command line)"
      ]
    },
    {
      "cell_type": "code",
      "execution_count": null,
      "metadata": {
        "id": "yjcLAHktBIyt"
      },
      "outputs": [],
      "source": [
        "# Solution\n",
        "! git init"
      ]
    },
    {
      "cell_type": "markdown",
      "metadata": {
        "id": "aUASjZ9hVc64"
      },
      "source": [
        "**[2.2]** Display the content of the folder\n"
      ]
    },
    {
      "cell_type": "code",
      "execution_count": null,
      "metadata": {
        "id": "1dKzGEoEQdIR"
      },
      "outputs": [],
      "source": [
        "# Placeholder for student's code (command line)"
      ]
    },
    {
      "cell_type": "code",
      "execution_count": null,
      "metadata": {
        "id": "kXAzEy4KVdEU"
      },
      "outputs": [],
      "source": [
        "# Solution\n",
        "! ls -la"
      ]
    },
    {
      "cell_type": "markdown",
      "metadata": {
        "id": "Iv56CQctXKMG"
      },
      "source": [
        "Now the folder contains a file called `git`. Every time you will make a change on this repository, git will store some information in this file. You don't to edit this file.\n"
      ]
    },
    {
      "cell_type": "markdown",
      "metadata": {
        "id": "ZdpqK6XCXdiS"
      },
      "source": [
        "**[2.3]** Login into Github with your account (https://github.com/)\n"
      ]
    },
    {
      "cell_type": "markdown",
      "metadata": {
        "id": "cU_ybB5mXxgN"
      },
      "source": [
        "**[2.4]** Create a public repo with the name `adv_mla_lab_1`\n",
        "\n"
      ]
    },
    {
      "cell_type": "markdown",
      "metadata": {
        "id": "1PZTU84XYJhX"
      },
      "source": [
        "**[2.5]** In your local repo, link it with Github (replace the url with your username)\n"
      ]
    },
    {
      "cell_type": "code",
      "execution_count": null,
      "metadata": {
        "id": "j7xqf5a8Qfec"
      },
      "outputs": [],
      "source": [
        "# Placeholder for student's code (command line)"
      ]
    },
    {
      "cell_type": "code",
      "execution_count": null,
      "metadata": {
        "id": "oWYFJxJSXdtz"
      },
      "outputs": [],
      "source": [
        "# Solution\n",
        "! git remote add origin git@github.com:<username>/adv_mla_lab_1.git"
      ]
    },
    {
      "cell_type": "markdown",
      "metadata": {
        "id": "i0-NkSgfZDLx"
      },
      "source": [
        "### 3. Push Content\n"
      ]
    },
    {
      "cell_type": "markdown",
      "metadata": {
        "id": "zKdFokEXafti"
      },
      "source": [
        "**[3.1]** Add you changes to git staging area"
      ]
    },
    {
      "cell_type": "code",
      "execution_count": null,
      "metadata": {
        "id": "BTyUEo7jKUOO"
      },
      "outputs": [],
      "source": [
        "# Placeholder for student's code (command line)"
      ]
    },
    {
      "cell_type": "code",
      "execution_count": null,
      "metadata": {
        "id": "jlv7_l_4BFal"
      },
      "outputs": [],
      "source": [
        "# Solution\n",
        "! git add ."
      ]
    },
    {
      "cell_type": "markdown",
      "metadata": {
        "id": "UoYjBXnYbK_5"
      },
      "source": [
        "**[3.2]** Create the snapshot of your repository and add a description"
      ]
    },
    {
      "cell_type": "code",
      "execution_count": null,
      "metadata": {
        "id": "bqJOvs8zKU0p"
      },
      "outputs": [],
      "source": [
        "# Placeholder for student's code (command line)"
      ]
    },
    {
      "cell_type": "code",
      "execution_count": null,
      "metadata": {
        "id": "K9jDRO4cBQP5"
      },
      "outputs": [],
      "source": [
        "# Solution\n",
        "! git commit -m \"init\""
      ]
    },
    {
      "cell_type": "markdown",
      "metadata": {
        "id": "HxPel32vbaql"
      },
      "source": [
        "**[3.3]** Push your snapshot to Github"
      ]
    },
    {
      "cell_type": "code",
      "execution_count": null,
      "metadata": {
        "id": "4GdshiJXKVg3"
      },
      "outputs": [],
      "source": [
        "# Placeholder for student's code (command line)"
      ]
    },
    {
      "cell_type": "code",
      "execution_count": null,
      "metadata": {
        "id": "gEllExGWBTMP"
      },
      "outputs": [],
      "source": [
        "# Solution\n",
        "! git push -u origin main"
      ]
    },
    {
      "cell_type": "markdown",
      "metadata": {
        "id": "mKEvK-lUbkJK"
      },
      "source": [
        "**[3.4]** Go to Github and check your changes have been synchronised with Github"
      ]
    },
    {
      "cell_type": "markdown",
      "metadata": {
        "id": "3_iD1HutL4Gr"
      },
      "source": [
        "# 4. Install Python version with Pyenv"
      ]
    },
    {
      "cell_type": "markdown",
      "metadata": {
        "id": "nbY-cedYL4Gr"
      },
      "source": [
        "**[4.1]** Install python version to 3.11.4 with pyenv"
      ]
    },
    {
      "cell_type": "code",
      "execution_count": null,
      "metadata": {
        "id": "xjJ16KDoL4Gr"
      },
      "outputs": [],
      "source": [
        "# Placeholder for student's code (command line)"
      ]
    },
    {
      "cell_type": "code",
      "execution_count": null,
      "metadata": {
        "id": "JfQm_FybL4Gr"
      },
      "outputs": [],
      "source": [
        "# Solution\n",
        "! pyenv install 3.11.4"
      ]
    },
    {
      "cell_type": "markdown",
      "metadata": {
        "id": "BEzOWpPJL4Gr"
      },
      "source": [
        "**[4.2]** Set the local python version to 3.11.4"
      ]
    },
    {
      "cell_type": "code",
      "execution_count": null,
      "metadata": {
        "id": "Hn-U-6jhL4Gr"
      },
      "outputs": [],
      "source": [
        "# Placeholder for student's code (command line)"
      ]
    },
    {
      "cell_type": "code",
      "execution_count": null,
      "metadata": {
        "id": "1Q3TJcokL4Gr"
      },
      "outputs": [],
      "source": [
        "# Solution\n",
        "! pyenv local 3.11.4"
      ]
    },
    {
      "cell_type": "markdown",
      "metadata": {
        "id": "2FBwUY6zhcKe"
      },
      "source": [
        "# 5. Install packages with poetry"
      ]
    },
    {
      "cell_type": "markdown",
      "metadata": {
        "id": "wQkzpBFezoPx"
      },
      "source": [
        "**[5.1]** Initialise poetry project"
      ]
    },
    {
      "cell_type": "code",
      "execution_count": null,
      "metadata": {
        "id": "uHYlg3H5zoVO"
      },
      "outputs": [],
      "source": [
        "# Placeholder for student's code (command line)"
      ]
    },
    {
      "cell_type": "code",
      "execution_count": null,
      "metadata": {
        "id": "hw3JFE1GL4Gr"
      },
      "outputs": [],
      "source": [
        "# Solution\n",
        "! poetry init"
      ]
    },
    {
      "cell_type": "markdown",
      "metadata": {
        "id": "YcsLWXZGhec1"
      },
      "source": [
        "**[5.2]** Install the following dependencies with poetry:\n",
        "*   pandas 2.2.2\n",
        "*   jupyterlab 4.2.3\n",
        "*   scikit-learn 1.5.1 with poetry"
      ]
    },
    {
      "cell_type": "code",
      "execution_count": null,
      "metadata": {
        "id": "3Smh61BshoPO"
      },
      "outputs": [],
      "source": [
        "# Placeholder for student's code (command line)"
      ]
    },
    {
      "cell_type": "code",
      "execution_count": null,
      "metadata": {
        "id": "vQjbvSmVL4Gr"
      },
      "outputs": [],
      "source": [
        "# Solution\n",
        "! poetry add pandas==2.2.2 jupyterlab==4.4.4 scikit-learn==1.5.1"
      ]
    },
    {
      "cell_type": "markdown",
      "metadata": {
        "id": "Eghfhn68iejh"
      },
      "source": [
        "**[5.3]** Display the content of the current folder"
      ]
    },
    {
      "cell_type": "code",
      "execution_count": null,
      "metadata": {
        "id": "TKo6mXNCkFlF"
      },
      "outputs": [],
      "source": [
        "# Placeholder for student's code (command line)"
      ]
    },
    {
      "cell_type": "code",
      "execution_count": null,
      "metadata": {
        "id": "ufROmaSHL4Gs"
      },
      "outputs": [],
      "source": [
        "# Solution\n",
        "! ls -la"
      ]
    },
    {
      "cell_type": "markdown",
      "metadata": {
        "id": "oBg-rVahRnlx"
      },
      "source": [
        "**[5.4]** Look at the content of pyproject.toml"
      ]
    },
    {
      "cell_type": "code",
      "execution_count": null,
      "metadata": {
        "id": "ydukQYoWRnwv"
      },
      "outputs": [],
      "source": [
        "# Placeholder for student's code (command line)"
      ]
    },
    {
      "cell_type": "code",
      "execution_count": null,
      "metadata": {
        "id": "8R8C9B3nL4Gs"
      },
      "outputs": [],
      "source": [
        "# Solution\n",
        "! cat pyproject.toml"
      ]
    },
    {
      "cell_type": "markdown",
      "metadata": {
        "id": "2CLNk1WQioVg"
      },
      "source": [
        "**[5.5]** Generate a `requirements.txt` file listing all the required packages"
      ]
    },
    {
      "cell_type": "code",
      "execution_count": null,
      "metadata": {
        "id": "rPssx9OSQlf8"
      },
      "outputs": [],
      "source": [
        "# Placeholder for student's code (command line)"
      ]
    },
    {
      "cell_type": "code",
      "execution_count": null,
      "metadata": {
        "id": "BJ83CmqIL4Gs"
      },
      "outputs": [],
      "source": [
        "# Solution\n",
        "! poetry export --output requirements.txt"
      ]
    },
    {
      "cell_type": "markdown",
      "metadata": {
        "id": "VGroDWSVi7y3"
      },
      "source": [
        "**[5.6]** Launch a poetry shell"
      ]
    },
    {
      "cell_type": "code",
      "execution_count": null,
      "metadata": {
        "id": "G8Y8qDqAQnq3"
      },
      "outputs": [],
      "source": [
        "# Placeholder for student's code (command line)"
      ]
    },
    {
      "cell_type": "code",
      "execution_count": null,
      "metadata": {
        "id": "5h05cYSxL4Gs"
      },
      "outputs": [],
      "source": [
        "# Solution\n",
        "! poetry shell"
      ]
    },
    {
      "cell_type": "markdown",
      "metadata": {
        "id": "GI9Q9fUXkbKT"
      },
      "source": [
        "**[5.7]** Launch Python via the command line"
      ]
    },
    {
      "cell_type": "code",
      "execution_count": null,
      "metadata": {
        "id": "sgC6lgBLkbew"
      },
      "outputs": [],
      "source": [
        "# Placeholder for student's code (command line)"
      ]
    },
    {
      "cell_type": "code",
      "execution_count": null,
      "metadata": {
        "id": "04hzFkgAL4Gs"
      },
      "outputs": [],
      "source": [
        "# Solution\n",
        "! python"
      ]
    },
    {
      "cell_type": "markdown",
      "metadata": {
        "id": "3lyQvdnBkXBG"
      },
      "source": [
        "**[5.8]** From the shell, import the pandas package and display its version"
      ]
    },
    {
      "cell_type": "code",
      "execution_count": null,
      "metadata": {
        "id": "NWdrz1ZrkXHo"
      },
      "outputs": [],
      "source": [
        "# Placeholder for student's code (Python code)"
      ]
    },
    {
      "cell_type": "code",
      "execution_count": null,
      "metadata": {
        "id": "wmLI9bPuL4Gs"
      },
      "outputs": [],
      "source": [
        "# Solution\n",
        "import pandas as pd\n",
        "pd.__version__"
      ]
    },
    {
      "cell_type": "markdown",
      "metadata": {
        "id": "FdyguYMMjVsD"
      },
      "source": [
        "**[5.9]** Quit the virtual environment"
      ]
    },
    {
      "cell_type": "code",
      "execution_count": null,
      "metadata": {
        "id": "ojmaA2A3Qp7S"
      },
      "outputs": [],
      "source": [
        "# Placeholder for student's code (command line)"
      ]
    },
    {
      "cell_type": "code",
      "execution_count": null,
      "metadata": {
        "id": "hqgjZ55CL4Gs"
      },
      "outputs": [],
      "source": [
        "# Solution\n",
        "! exit()"
      ]
    },
    {
      "cell_type": "markdown",
      "metadata": {
        "id": "Qr1l-lVfgYUO"
      },
      "source": [
        "## 6.   Push changes"
      ]
    },
    {
      "cell_type": "markdown",
      "metadata": {
        "id": "sqC2fz08gYhl"
      },
      "source": [
        "**[6.1]** Add your changes to git staging area"
      ]
    },
    {
      "cell_type": "code",
      "execution_count": null,
      "metadata": {
        "id": "u4ViC9eTglGO"
      },
      "outputs": [],
      "source": [
        "# Placeholder for student's code (command line)"
      ]
    },
    {
      "cell_type": "code",
      "execution_count": null,
      "metadata": {
        "id": "xdPSHeTeL4Gt"
      },
      "outputs": [],
      "source": [
        "# Solution\n",
        "! git add ."
      ]
    },
    {
      "cell_type": "markdown",
      "metadata": {
        "id": "jUSlXH1Aglhq"
      },
      "source": [
        "**[6.2]** Create the snapshot of your repository and add a description"
      ]
    },
    {
      "cell_type": "code",
      "execution_count": null,
      "metadata": {
        "id": "FpjPcrw3gln9"
      },
      "outputs": [],
      "source": [
        "# Placeholder for student's code (command line)"
      ]
    },
    {
      "cell_type": "code",
      "execution_count": null,
      "metadata": {
        "id": "tRNj8tnRL4Gt"
      },
      "outputs": [],
      "source": [
        "# Solution\n",
        "! git commit -m \"poetry setup\""
      ]
    },
    {
      "cell_type": "markdown",
      "metadata": {
        "id": "GL-6O1gTgs8g"
      },
      "source": [
        "**[6.3]** Push your snapshot to Github"
      ]
    },
    {
      "cell_type": "code",
      "execution_count": null,
      "metadata": {
        "id": "T5yfZ6h7gtEA"
      },
      "outputs": [],
      "source": [
        "# Placeholder for student's code (command line)"
      ]
    },
    {
      "cell_type": "code",
      "execution_count": null,
      "metadata": {
        "id": "Lc7mPt4dL4Gt"
      },
      "outputs": [],
      "source": [
        "# Solution\n",
        "! git push"
      ]
    }
  ],
  "metadata": {
    "colab": {
      "provenance": []
    },
    "kernelspec": {
      "display_name": "Python 3",
      "name": "python3"
    }
  },
  "nbformat": 4,
  "nbformat_minor": 0
}