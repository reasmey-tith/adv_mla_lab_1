{
 "cells": [
  {
   "cell_type": "markdown",
   "metadata": {
    "id": "uQ6wc2HE0pke"
   },
   "source": [
    "# **Lab: Engineering for ML**\n",
    "\n"
   ]
  },
  {
   "cell_type": "markdown",
   "metadata": {
    "id": "tQgxLRrvjiJb"
   },
   "source": [
    "\n",
    "## Exercise 3: Modelling\n",
    "\n",
    "This time we will train a RandomForest model.\n",
    "\n",
    "\n",
    "**Pre-requisites:**\n",
    "- Create a github account (https://github.com/join)\n",
    "- Install git (https://git-scm.com/book/en/v2/Getting-Started-Installing-Git)\n",
    "- Install pyenv (https://realpython.com/lessons/installing-pyenv/)\n",
    "- Install poetry (https://python-poetry.org/docs/#installation)\n",
    "- Install Wget for Windows users (https://eternallybored.org/misc/wget/)\n",
    "\n",
    "\n",
    "The steps are:\n",
    "1.   Create new Git branch\n",
    "2.   Load the dataset\n",
    "3.   Apply Polynomial Transformation\n",
    "4.   Train Linear Regression model\n",
    "5.   Push changes\n"
   ]
  },
  {
   "cell_type": "markdown",
   "metadata": {
    "id": "smh_LhVjIg9s"
   },
   "source": [
    "## 1. Create new Git branch\n"
   ]
  },
  {
   "cell_type": "markdown",
   "metadata": {
    "id": "jxQRDLu2C6D4"
   },
   "source": [
    "**[1.1]** Create a new git branch called `adv_mla_1_rf`\n"
   ]
  },
  {
   "cell_type": "code",
   "execution_count": null,
   "metadata": {
    "id": "lQxWkVV7IIwe"
   },
   "outputs": [],
   "source": [
    "# Placeholder for student's code (command line)"
   ]
  },
  {
   "cell_type": "code",
   "execution_count": null,
   "metadata": {
    "id": "zBD6K4MXC6rA"
   },
   "outputs": [],
   "source": [
    "# Solution:\n",
    "! git checkout -b adv_mla_1_rf"
   ]
  },
  {
   "cell_type": "markdown",
   "metadata": {
    "id": "uz35J1hNIFaO"
   },
   "source": [
    "**[1.2]** Launch Jupyter Lab from your virtual environment"
   ]
  },
  {
   "cell_type": "code",
   "execution_count": null,
   "metadata": {
    "id": "DorL2FE6IFgN"
   },
   "outputs": [],
   "source": [
    "# Placeholder for student's code (command line)"
   ]
  },
  {
   "cell_type": "code",
   "execution_count": null,
   "metadata": {
    "id": "GV0UNPcmIFiy"
   },
   "outputs": [],
   "source": [
    "# Solution:\n",
    "! poetry run jupyter lab"
   ]
  },
  {
   "cell_type": "markdown",
   "metadata": {
    "id": "yTjwF_joDWnE"
   },
   "source": [
    "**[1.3]** Navigate the folder `notebooks` and create a new jupyter notebook called `2_rf.ipynb`"
   ]
  },
  {
   "cell_type": "markdown",
   "metadata": {
    "id": "_CylBg1-ZK4F"
   },
   "source": [
    "## 2. Load the dataset\n"
   ]
  },
  {
   "cell_type": "markdown",
   "metadata": {
    "id": "PCvR3LRvINgR"
   },
   "source": [
    "**[2.1]** Launch magic commands to automatically reload modules"
   ]
  },
  {
   "cell_type": "code",
   "execution_count": null,
   "metadata": {
    "id": "UiMoft2MINmB"
   },
   "outputs": [],
   "source": [
    "# Placeholder for student's code (Python code)"
   ]
  },
  {
   "cell_type": "code",
   "execution_count": null,
   "metadata": {
    "id": "vo-Jx40pINoV"
   },
   "outputs": [],
   "source": [
    "# Solution\n",
    "%load_ext autoreload\n",
    "%autoreload 2"
   ]
  },
  {
   "cell_type": "markdown",
   "metadata": {
    "id": "4JI0kZJxpkoK"
   },
   "source": [
    "**[2.1]** Import the pandas, numpy packages and dump from joblib"
   ]
  },
  {
   "cell_type": "code",
   "execution_count": null,
   "metadata": {
    "id": "85PHb6M7p57j"
   },
   "outputs": [],
   "source": [
    "# Placeholder for student's code (Python code)"
   ]
  },
  {
   "cell_type": "code",
   "execution_count": null,
   "metadata": {
    "id": "1sXpjWA8pz0q",
    "tags": []
   },
   "outputs": [],
   "source": [
    "# Solution\n",
    "import pandas as pd\n",
    "import numpy as np\n",
    "from joblib import dump"
   ]
  },
  {
   "cell_type": "markdown",
   "metadata": {
    "id": "hknbRqaiH7jo"
   },
   "source": [
    "**[2.2]** Load the saved sets from `data/processed`"
   ]
  },
  {
   "cell_type": "code",
   "execution_count": null,
   "metadata": {
    "id": "1GUkoAWaH7jo"
   },
   "outputs": [],
   "source": [
    "# Placeholder for student's code (Python code)"
   ]
  },
  {
   "cell_type": "code",
   "execution_count": null,
   "metadata": {
    "id": "ZM1Nc5DeH7jo"
   },
   "outputs": [],
   "source": [
    "# Solution\n",
    "X_train = pd.read_csv('../data/processed/X_train.csv')\n",
    "X_val   = pd.read_csv('../data/processed/X_val.csv'  )\n",
    "X_test  = pd.read_csv('../data/processed/X_test.csv' )\n",
    "y_train = pd.read_csv('../data/processed/y_train.csv')\n",
    "y_val   = pd.read_csv('../data/processed/y_val.csv'  )\n",
    "y_test  = pd.read_csv('../data/processed/y_test.csv' )"
   ]
  },
  {
   "cell_type": "markdown",
   "metadata": {
    "id": "K_m-WMllhVqG"
   },
   "source": [
    "# 3. Train Initial RandomForest with Default Hyperparameter"
   ]
  },
  {
   "cell_type": "markdown",
   "metadata": {
    "id": "ImPSPeLcQrS5"
   },
   "source": [
    "**[3.1]** Import the RandomForestClassifier from sklearn.ensemble"
   ]
  },
  {
   "cell_type": "code",
   "execution_count": null,
   "metadata": {
    "id": "Oqu0mLfnQrZX"
   },
   "outputs": [],
   "source": [
    "# Placeholder for student's code (Python code)"
   ]
  },
  {
   "cell_type": "code",
   "execution_count": null,
   "metadata": {
    "id": "hh2wmK9wQrcB",
    "tags": []
   },
   "outputs": [],
   "source": [
    "# Solution:\n",
    "from sklearn.ensemble import RandomForestClassifier"
   ]
  },
  {
   "cell_type": "markdown",
   "metadata": {
    "id": "m00Ks05tQsJb"
   },
   "source": [
    "**[3.2]** Instantiate the RandomForestClassifier class called rf1 with a random state=8"
   ]
  },
  {
   "cell_type": "code",
   "execution_count": null,
   "metadata": {
    "id": "x--MSD6_QsRV"
   },
   "outputs": [],
   "source": [
    "# Placeholder for student's code (Python code)"
   ]
  },
  {
   "cell_type": "code",
   "execution_count": null,
   "metadata": {
    "id": "oijeWjaIQsT9",
    "tags": []
   },
   "outputs": [],
   "source": [
    "# Solution\n",
    "rf1 = RandomForestClassifier(random_state=8)"
   ]
  },
  {
   "cell_type": "markdown",
   "metadata": {
    "id": "Ao86WklhRj-F"
   },
   "source": [
    "**[3.3]** Fit the RandomForest model"
   ]
  },
  {
   "cell_type": "code",
   "execution_count": null,
   "metadata": {
    "id": "lMXMIkJHRkHz"
   },
   "outputs": [],
   "source": [
    "# Placeholder for student's code (Python code)"
   ]
  },
  {
   "cell_type": "code",
   "execution_count": null,
   "metadata": {
    "id": "rprce0GGRkKb",
    "tags": []
   },
   "outputs": [],
   "source": [
    "# Solution\n",
    "rf1.fit(X_train, y_train)"
   ]
  },
  {
   "cell_type": "markdown",
   "metadata": {
    "id": "LZFys_bhRtu-"
   },
   "source": [
    "**[3.4]** Import `dump` from `joblib` and save the fitted model into the folder `models` as a file called `rf1`"
   ]
  },
  {
   "cell_type": "code",
   "execution_count": null,
   "metadata": {
    "id": "QzHfn9UORt2e"
   },
   "outputs": [],
   "source": [
    "# Placeholder for student's code (Python code)"
   ]
  },
  {
   "cell_type": "code",
   "execution_count": null,
   "metadata": {
    "id": "3Yn_xbLxRt4y",
    "tags": []
   },
   "outputs": [],
   "source": [
    "# Solution:\n",
    "from joblib import dump\n",
    "\n",
    "dump(rf1,  '../models/rf1.joblib')"
   ]
  },
  {
   "cell_type": "markdown",
   "metadata": {
    "id": "xMvlK3mkfk0Q"
   },
   "source": [
    "**[3.5]** Save the predicted probabilities from this model for the training and validation sets into 2 variables called `y_train_probas` and `y_val_probas`\n"
   ]
  },
  {
   "cell_type": "code",
   "execution_count": null,
   "metadata": {
    "id": "xOVFv7mFfk6D"
   },
   "outputs": [],
   "source": [
    "# Placeholder for student's code (Python code)"
   ]
  },
  {
   "cell_type": "code",
   "execution_count": null,
   "metadata": {
    "id": "BTkCfP4lfk86",
    "tags": []
   },
   "outputs": [],
   "source": [
    "# Solution:\n",
    "y_train_probas = rf1.predict_proba(X_train)\n",
    "y_val_probas = rf1.predict_proba(X_val)"
   ]
  },
  {
   "cell_type": "markdown",
   "metadata": {
    "id": "Y5npD0dOhhzK"
   },
   "source": [
    "**[3.6]** Import roc_auc_score from sklearn.metrics"
   ]
  },
  {
   "cell_type": "code",
   "execution_count": null,
   "metadata": {
    "id": "kWGNX_byhh6_"
   },
   "outputs": [],
   "source": [
    "# Placeholder for student's code (Python code)"
   ]
  },
  {
   "cell_type": "code",
   "execution_count": null,
   "metadata": {
    "id": "c5WkEIhHhh9j",
    "tags": []
   },
   "outputs": [],
   "source": [
    "# Solution:\n",
    "from sklearn.metrics import roc_auc_score"
   ]
  },
  {
   "cell_type": "markdown",
   "metadata": {
    "id": "j-JTUQkUhDhq"
   },
   "source": [
    "**[3.7]** Display the ROC score of this model on the training set"
   ]
  },
  {
   "cell_type": "code",
   "execution_count": null,
   "metadata": {
    "id": "4uYmcxWHhDnd"
   },
   "outputs": [],
   "source": [
    "# Placeholder for student's code (Python code)"
   ]
  },
  {
   "cell_type": "code",
   "execution_count": null,
   "metadata": {
    "id": "hQd__b-chDqR",
    "tags": []
   },
   "outputs": [],
   "source": [
    "# Solution:\n",
    "roc_auc_score(y_train, y_probas[:, 1])"
   ]
  },
  {
   "cell_type": "markdown",
   "metadata": {
    "id": "1rAjI3c4TIPK"
   },
   "source": [
    "**[3.8]** Display the ROC score of this model on the validation set"
   ]
  },
  {
   "cell_type": "code",
   "execution_count": null,
   "metadata": {
    "id": "ro3FgUvbTIXH"
   },
   "outputs": [],
   "source": [
    "# Placeholder for student's code (Python code)"
   ]
  },
  {
   "cell_type": "code",
   "execution_count": null,
   "metadata": {
    "id": "YqiLiSVzTIZ1",
    "tags": []
   },
   "outputs": [],
   "source": [
    "# Solution:\n",
    "roc_auc_score(y_train, y_probas[:, 1])"
   ]
  },
  {
   "cell_type": "markdown",
   "metadata": {
    "id": "go3ten8FC2zq"
   },
   "source": [
    "# 4. Tune RandomForest"
   ]
  },
  {
   "cell_type": "markdown",
   "metadata": {
    "id": "vYjLbmWxDBMj"
   },
   "source": [
    "**[4.1]** Instantiate and fit a RandomForestClassifier class called rf2 with a random state=8, max depth of 6 and min sample leaf of 50"
   ]
  },
  {
   "cell_type": "code",
   "execution_count": null,
   "metadata": {
    "id": "9pxrYP2UDBVS"
   },
   "outputs": [],
   "source": [
    "# Placeholder for student's code (Python code)"
   ]
  },
  {
   "cell_type": "code",
   "execution_count": null,
   "metadata": {
    "id": "4NuDg9_XDBYJ"
   },
   "outputs": [],
   "source": [
    "# Solution:\n",
    "rf2 = RandomForestClassifier(random_state=8, max_depth=6, min_samples_leaf=50)\n",
    "rf2.fit(X_train, y_train)"
   ]
  },
  {
   "cell_type": "markdown",
   "metadata": {
    "id": "MbdV3NlyDb6e"
   },
   "source": [
    "**[4.2]** Display the ROC score of this model on the validation set"
   ]
  },
  {
   "cell_type": "code",
   "execution_count": null,
   "metadata": {
    "id": "mnBahbyDDde9"
   },
   "outputs": [],
   "source": [
    "# Placeholder for student's code (Python code)"
   ]
  },
  {
   "cell_type": "code",
   "execution_count": null,
   "metadata": {
    "id": "tRejdjWZDdiE"
   },
   "outputs": [],
   "source": [
    "# Solution:\n",
    "print(roc_auc_score(y_train, rf2.predict_proba(X_train)[:, 1]))\n",
    "print(roc_auc_score(y_val, rf2.predict_proba(X_val)[:, 1]))"
   ]
  },
  {
   "cell_type": "markdown",
   "metadata": {
    "id": "L5Le10ohW01S"
   },
   "source": [
    "**[4.3]** Display the ROC score of this model on the testing set"
   ]
  },
  {
   "cell_type": "code",
   "execution_count": null,
   "metadata": {
    "id": "KH35R9JmW2wb"
   },
   "outputs": [],
   "source": [
    "# Placeholder for student's code (Python code)"
   ]
  },
  {
   "cell_type": "code",
   "execution_count": null,
   "metadata": {
    "id": "Bc10AnKyW23U"
   },
   "outputs": [],
   "source": [
    "# Solution:\n",
    "roc_auc_score(y_val, rf2.predict_proba(X_test)[:, 1])"
   ]
  },
  {
   "cell_type": "markdown",
   "metadata": {
    "id": "uQE3we18DwNU"
   },
   "source": [
    "**[4.4]** Save the fitted model into the folder `models` as a file called `rf2`"
   ]
  },
  {
   "cell_type": "code",
   "execution_count": null,
   "metadata": {
    "id": "ObrXYkrnDwWT"
   },
   "outputs": [],
   "source": [
    "# Placeholder for student's code (Python code)"
   ]
  },
  {
   "cell_type": "code",
   "execution_count": null,
   "metadata": {
    "id": "85nissSjDwZc"
   },
   "outputs": [],
   "source": [
    "# Solution:\n",
    "dump(rf2,  '../models/rf2.joblib')"
   ]
  },
  {
   "cell_type": "markdown",
   "metadata": {
    "id": "1yX0Ocg4hcZM"
   },
   "source": [
    "# 5.   Push changes"
   ]
  },
  {
   "cell_type": "markdown",
   "metadata": {
    "id": "3guOKU9gjrmp"
   },
   "source": [
    "**[5.1]** Add you changes to git staging area"
   ]
  },
  {
   "cell_type": "code",
   "execution_count": null,
   "metadata": {
    "id": "lKuRNeqAj0ym"
   },
   "outputs": [],
   "source": [
    "# Placeholder for student's code (command line)"
   ]
  },
  {
   "cell_type": "code",
   "execution_count": null,
   "metadata": {
    "id": "axcj-jS0jruy"
   },
   "outputs": [],
   "source": [
    "# Solution:\n",
    "! git add ."
   ]
  },
  {
   "cell_type": "markdown",
   "metadata": {
    "id": "6nUK2dp_j67X"
   },
   "source": [
    "**[5.2]** Create the snapshot of your repository and add a description"
   ]
  },
  {
   "cell_type": "code",
   "execution_count": null,
   "metadata": {
    "id": "1-M-aS-Ij7EE"
   },
   "outputs": [],
   "source": [
    "# Placeholder for student's code (command line)"
   ]
  },
  {
   "cell_type": "code",
   "execution_count": null,
   "metadata": {
    "id": "zovhzXRxj7Il"
   },
   "outputs": [],
   "source": [
    "# Solution:\n",
    "! git commit -m \"best rf\""
   ]
  },
  {
   "cell_type": "markdown",
   "metadata": {
    "id": "Y9FciIQZj7nX"
   },
   "source": [
    "**[5.3]** Push your snapshot to Github"
   ]
  },
  {
   "cell_type": "code",
   "execution_count": null,
   "metadata": {
    "id": "IR7i6D5hj7uO"
   },
   "outputs": [],
   "source": [
    "# Placeholder for student's code (command line)"
   ]
  },
  {
   "cell_type": "code",
   "execution_count": null,
   "metadata": {
    "id": "WaVAgJ4Aj7wi"
   },
   "outputs": [],
   "source": [
    "# Solution:\n",
    "! git push -u origin adv_mla_1_rf"
   ]
  },
  {
   "cell_type": "markdown",
   "metadata": {
    "id": "4ZQeGGRmglew"
   },
   "source": [
    "[5.4] Go to to github and merge your change to the master/main branch"
   ]
  },
  {
   "cell_type": "markdown",
   "metadata": {
    "id": "d7a6bwMniAs1"
   },
   "source": [
    "**[5.5]** Check out to the master branch"
   ]
  },
  {
   "cell_type": "code",
   "execution_count": null,
   "metadata": {
    "id": "eM9v_33XiA1I"
   },
   "outputs": [],
   "source": [
    "# Placeholder for student's code (command line)"
   ]
  },
  {
   "cell_type": "code",
   "execution_count": null,
   "metadata": {
    "id": "d6-AI0x7iA4M"
   },
   "outputs": [],
   "source": [
    "# Solution:\n",
    "! git checkout master"
   ]
  },
  {
   "cell_type": "markdown",
   "metadata": {
    "id": "v98Ka9kNiBLw"
   },
   "source": [
    "**[5.6]** Pull the latest updates"
   ]
  },
  {
   "cell_type": "code",
   "execution_count": null,
   "metadata": {
    "id": "yNZb1PyEjIOP"
   },
   "outputs": [],
   "source": [
    "# Placeholder for student's code (command line)"
   ]
  },
  {
   "cell_type": "code",
   "execution_count": null,
   "metadata": {
    "id": "5TJAEYxPjIRS"
   },
   "outputs": [],
   "source": [
    "# Solution:\n",
    "! git pull"
   ]
  },
  {
   "cell_type": "markdown",
   "metadata": {
    "id": "EkQx18jYiEvQ"
   },
   "source": [
    "**[5.7]** Stop Jupyter Lab"
   ]
  }
 ],
 "metadata": {
  "colab": {
   "provenance": []
  },
  "kernelspec": {
   "display_name": "Python 3 (ipykernel)",
   "language": "python",
   "name": "python3"
  },
  "language_info": {
   "codemirror_mode": {
    "name": "ipython",
    "version": 3
   },
   "file_extension": ".py",
   "mimetype": "text/x-python",
   "name": "python",
   "nbconvert_exporter": "python",
   "pygments_lexer": "ipython3",
   "version": "3.11.4"
  }
 },
 "nbformat": 4,
 "nbformat_minor": 4
}
